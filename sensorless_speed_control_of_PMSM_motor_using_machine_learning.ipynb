{
 "cells": [
  {
   "cell_type": "code",
   "execution_count": 1,
   "metadata": {},
   "outputs": [],
   "source": [
    "#import libraries\n",
    "# This Python 3 environment comes with many helpful analytics libraries installed\n",
    "# For example, here's several helpful packages to load in \n",
    "from sklearn.impute import SimpleImputer #The imputer is an estimator used to fill the missing values in datasets.\n",
    "from sklearn.model_selection import KFold # K-Folds cross-validator. Provides train/test indices to split data in train/test sets \n",
    "from sklearn import linear_model #Linear models describe a continuous response variable as a function of one or more predictor variables\n",
    "from sklearn.metrics import make_scorer #This factory function wraps scoring functions for use in GridSearchCV and cross_val_score \n",
    "\n",
    "from sklearn import svm #SVMs are used in applications like email classification, gene classification, and in web pages.\n",
    "import numpy as np # linear algebra\n",
    "import pandas as pd # data processing, CSV file I/O (e.g. pd.read_csv)\n",
    "import matplotlib.pyplot as plt\n",
    "from sklearn.linear_model import LinearRegression\n",
    "\n",
    "from sklearn import neighbors\n",
    "from math import sqrt\n",
    "\n"
   ]
  },
  {
   "cell_type": "code",
   "execution_count": 2,
   "metadata": {},
   "outputs": [
    {
     "name": "stdout",
     "output_type": "stream",
     "text": [
      "         time          I         IQ         ID         V        VQ        VD  \\\n",
      "0     0.00000    2.01903   -0.65599    1.90949   0.38362  -0.19181   0.33222   \n",
      "1     0.00000    4.03787   -1.31194    3.81879   0.76647  -0.38323   0.66378   \n",
      "2     0.00000    6.05652   -1.96785    5.72792   1.14855  -0.57428   0.99467   \n",
      "3     0.00001    8.07499   -2.62372    7.63685   1.52987  -0.76494   1.32491   \n",
      "4     0.00001   10.09327   -3.27956    9.54561   1.91043  -0.95521   1.65448   \n",
      "...       ...        ...        ...        ...       ...       ...       ...   \n",
      "1194  0.00239  504.84798  439.72087 -248.02628  32.25609  28.05322 -15.92081   \n",
      "1195  0.00239  503.28018  439.01576 -246.08149  31.85794  27.79946 -15.56015   \n",
      "1196  0.00239  501.71607  438.31058 -244.13695  31.46171  27.54619 -15.20023   \n",
      "1197  0.00239  500.15570  437.60534 -242.19266  31.06745  27.29341 -14.84103   \n",
      "1198  0.00240  498.59908  436.90004 -240.24861  30.67518  27.04113 -14.48256   \n",
      "\n",
      "           torq     power        wR    theta  \n",
      "0       0.00000     0.000   0.00000  0.00000  \n",
      "1       0.00000     0.000  -0.00007  0.00000  \n",
      "2       0.00000     0.000  -0.00020  0.00000  \n",
      "3       0.00000     0.000  -0.00040  0.00000  \n",
      "4       0.00000     0.000  -0.00066  0.00000  \n",
      "...         ...       ...       ...      ...  \n",
      "1194  241.81454  1393.954  50.19564  0.00387  \n",
      "1195  241.56071  1390.277  50.25890  0.00388  \n",
      "1196  241.30513  1386.590  50.32191  0.00389  \n",
      "1197  241.04778  1382.893  50.38467  0.00390  \n",
      "1198  240.78867  1379.186  50.44719  0.00391  \n",
      "\n",
      "[1199 rows x 11 columns]\n"
     ]
    }
   ],
   "source": [
    "# read data\n",
    "df = pd.read_csv(R'C:\\Users\\csc\\OneDrive\\Desktop\\Python Program\\Project 3- Sensorless Speed Control of PMSM motor using machine learning\\big-DATA.csv')\n",
    "print(df)\n",
    "\n"
   ]
  },
  {
   "cell_type": "code",
   "execution_count": 3,
   "metadata": {},
   "outputs": [
    {
     "name": "stdout",
     "output_type": "stream",
     "text": [
      "<class 'pandas.core.frame.DataFrame'>\n",
      "RangeIndex: 1199 entries, 0 to 1198\n",
      "Data columns (total 11 columns):\n",
      " #   Column  Non-Null Count  Dtype  \n",
      "---  ------  --------------  -----  \n",
      " 0   time    1199 non-null   float64\n",
      " 1   I       1199 non-null   float64\n",
      " 2   IQ      1199 non-null   float64\n",
      " 3   ID      1199 non-null   float64\n",
      " 4   V       1199 non-null   float64\n",
      " 5   VQ      1199 non-null   float64\n",
      " 6   VD      1199 non-null   float64\n",
      " 7   torq    1199 non-null   float64\n",
      " 8   power   1199 non-null   float64\n",
      " 9   wR      1199 non-null   float64\n",
      " 10  theta   1199 non-null   float64\n",
      "dtypes: float64(11)\n",
      "memory usage: 103.2 KB\n"
     ]
    }
   ],
   "source": [
    "df.info()"
   ]
  },
  {
   "cell_type": "code",
   "execution_count": 4,
   "metadata": {},
   "outputs": [
    {
     "data": {
      "text/html": [
       "<div>\n",
       "<style scoped>\n",
       "    .dataframe tbody tr th:only-of-type {\n",
       "        vertical-align: middle;\n",
       "    }\n",
       "\n",
       "    .dataframe tbody tr th {\n",
       "        vertical-align: top;\n",
       "    }\n",
       "\n",
       "    .dataframe thead th {\n",
       "        text-align: right;\n",
       "    }\n",
       "</style>\n",
       "<table border=\"1\" class=\"dataframe\">\n",
       "  <thead>\n",
       "    <tr style=\"text-align: right;\">\n",
       "      <th></th>\n",
       "      <th>count</th>\n",
       "      <th>mean</th>\n",
       "      <th>std</th>\n",
       "      <th>min</th>\n",
       "      <th>25%</th>\n",
       "      <th>50%</th>\n",
       "      <th>75%</th>\n",
       "      <th>max</th>\n",
       "    </tr>\n",
       "  </thead>\n",
       "  <tbody>\n",
       "    <tr>\n",
       "      <th>time</th>\n",
       "      <td>1199.0</td>\n",
       "      <td>0.001198</td>\n",
       "      <td>0.000693</td>\n",
       "      <td>0.00000</td>\n",
       "      <td>0.000600</td>\n",
       "      <td>0.00120</td>\n",
       "      <td>0.001800</td>\n",
       "      <td>0.00240</td>\n",
       "    </tr>\n",
       "    <tr>\n",
       "      <th>I</th>\n",
       "      <td>1199.0</td>\n",
       "      <td>360.784653</td>\n",
       "      <td>168.126399</td>\n",
       "      <td>2.01903</td>\n",
       "      <td>183.060535</td>\n",
       "      <td>474.41106</td>\n",
       "      <td>493.717955</td>\n",
       "      <td>516.96682</td>\n",
       "    </tr>\n",
       "    <tr>\n",
       "      <th>IQ</th>\n",
       "      <td>1199.0</td>\n",
       "      <td>310.046618</td>\n",
       "      <td>170.421767</td>\n",
       "      <td>-13.11257</td>\n",
       "      <td>163.926460</td>\n",
       "      <td>427.58408</td>\n",
       "      <td>440.401960</td>\n",
       "      <td>459.86708</td>\n",
       "    </tr>\n",
       "    <tr>\n",
       "      <th>ID</th>\n",
       "      <td>1199.0</td>\n",
       "      <td>-136.085525</td>\n",
       "      <td>121.462957</td>\n",
       "      <td>-257.75389</td>\n",
       "      <td>-225.213130</td>\n",
       "      <td>-196.13260</td>\n",
       "      <td>-58.821130</td>\n",
       "      <td>190.04049</td>\n",
       "    </tr>\n",
       "    <tr>\n",
       "      <th>V</th>\n",
       "      <td>1199.0</td>\n",
       "      <td>49.894441</td>\n",
       "      <td>24.066329</td>\n",
       "      <td>0.38362</td>\n",
       "      <td>31.974260</td>\n",
       "      <td>48.18368</td>\n",
       "      <td>70.054380</td>\n",
       "      <td>96.08634</td>\n",
       "    </tr>\n",
       "    <tr>\n",
       "      <th>VQ</th>\n",
       "      <td>1199.0</td>\n",
       "      <td>44.877143</td>\n",
       "      <td>25.933283</td>\n",
       "      <td>-3.77508</td>\n",
       "      <td>29.436850</td>\n",
       "      <td>45.86848</td>\n",
       "      <td>66.439345</td>\n",
       "      <td>91.24581</td>\n",
       "    </tr>\n",
       "    <tr>\n",
       "      <th>VD</th>\n",
       "      <td>1199.0</td>\n",
       "      <td>-13.478368</td>\n",
       "      <td>14.167890</td>\n",
       "      <td>-32.93660</td>\n",
       "      <td>-22.778300</td>\n",
       "      <td>-16.23944</td>\n",
       "      <td>-10.324235</td>\n",
       "      <td>30.13912</td>\n",
       "    </tr>\n",
       "    <tr>\n",
       "      <th>torq</th>\n",
       "      <td>1199.0</td>\n",
       "      <td>165.323247</td>\n",
       "      <td>106.687343</td>\n",
       "      <td>-5.23920</td>\n",
       "      <td>48.223865</td>\n",
       "      <td>241.58641</td>\n",
       "      <td>255.940320</td>\n",
       "      <td>273.36792</td>\n",
       "    </tr>\n",
       "    <tr>\n",
       "      <th>power</th>\n",
       "      <td>1199.0</td>\n",
       "      <td>466.411941</td>\n",
       "      <td>451.166844</td>\n",
       "      <td>-0.00700</td>\n",
       "      <td>10.683500</td>\n",
       "      <td>360.54800</td>\n",
       "      <td>863.921000</td>\n",
       "      <td>1412.18500</td>\n",
       "    </tr>\n",
       "    <tr>\n",
       "      <th>wR</th>\n",
       "      <td>1199.0</td>\n",
       "      <td>17.727681</td>\n",
       "      <td>16.504696</td>\n",
       "      <td>-0.02500</td>\n",
       "      <td>1.328410</td>\n",
       "      <td>13.87208</td>\n",
       "      <td>32.105690</td>\n",
       "      <td>50.44719</td>\n",
       "    </tr>\n",
       "    <tr>\n",
       "      <th>theta</th>\n",
       "      <td>1199.0</td>\n",
       "      <td>0.000879</td>\n",
       "      <td>0.001125</td>\n",
       "      <td>0.00000</td>\n",
       "      <td>0.000000</td>\n",
       "      <td>0.00028</td>\n",
       "      <td>0.001520</td>\n",
       "      <td>0.00391</td>\n",
       "    </tr>\n",
       "  </tbody>\n",
       "</table>\n",
       "</div>"
      ],
      "text/plain": [
       "        count        mean         std        min         25%        50%  \\\n",
       "time   1199.0    0.001198    0.000693    0.00000    0.000600    0.00120   \n",
       "I      1199.0  360.784653  168.126399    2.01903  183.060535  474.41106   \n",
       "IQ     1199.0  310.046618  170.421767  -13.11257  163.926460  427.58408   \n",
       "ID     1199.0 -136.085525  121.462957 -257.75389 -225.213130 -196.13260   \n",
       "V      1199.0   49.894441   24.066329    0.38362   31.974260   48.18368   \n",
       "VQ     1199.0   44.877143   25.933283   -3.77508   29.436850   45.86848   \n",
       "VD     1199.0  -13.478368   14.167890  -32.93660  -22.778300  -16.23944   \n",
       "torq   1199.0  165.323247  106.687343   -5.23920   48.223865  241.58641   \n",
       "power  1199.0  466.411941  451.166844   -0.00700   10.683500  360.54800   \n",
       "wR     1199.0   17.727681   16.504696   -0.02500    1.328410   13.87208   \n",
       "theta  1199.0    0.000879    0.001125    0.00000    0.000000    0.00028   \n",
       "\n",
       "              75%         max  \n",
       "time     0.001800     0.00240  \n",
       "I      493.717955   516.96682  \n",
       "IQ     440.401960   459.86708  \n",
       "ID     -58.821130   190.04049  \n",
       "V       70.054380    96.08634  \n",
       "VQ      66.439345    91.24581  \n",
       "VD     -10.324235    30.13912  \n",
       "torq   255.940320   273.36792  \n",
       "power  863.921000  1412.18500  \n",
       "wR      32.105690    50.44719  \n",
       "theta    0.001520     0.00391  "
      ]
     },
     "execution_count": 4,
     "metadata": {},
     "output_type": "execute_result"
    }
   ],
   "source": [
    "df.describe().T"
   ]
  },
  {
   "cell_type": "code",
   "execution_count": 5,
   "metadata": {},
   "outputs": [
    {
     "data": {
      "text/plain": [
       "Series([], dtype: int64)"
      ]
     },
     "execution_count": 5,
     "metadata": {},
     "output_type": "execute_result"
    }
   ],
   "source": [
    "# Count the number of NaNs each column has.\n",
    "nans=pd.isnull(df).sum()\n",
    "nans[nans>0]"
   ]
  },
  {
   "cell_type": "code",
   "execution_count": 6,
   "metadata": {},
   "outputs": [
    {
     "data": {
      "text/plain": [
       "float64    11\n",
       "dtype: int64"
      ]
     },
     "execution_count": 6,
     "metadata": {},
     "output_type": "execute_result"
    }
   ],
   "source": [
    "# Count the column types\n",
    "df.dtypes.value_counts()"
   ]
  },
  {
   "cell_type": "code",
   "execution_count": 7,
   "metadata": {},
   "outputs": [
    {
     "data": {
      "text/html": [
       "<div>\n",
       "<style scoped>\n",
       "    .dataframe tbody tr th:only-of-type {\n",
       "        vertical-align: middle;\n",
       "    }\n",
       "\n",
       "    .dataframe tbody tr th {\n",
       "        vertical-align: top;\n",
       "    }\n",
       "\n",
       "    .dataframe thead th {\n",
       "        text-align: right;\n",
       "    }\n",
       "</style>\n",
       "<table border=\"1\" class=\"dataframe\">\n",
       "  <thead>\n",
       "    <tr style=\"text-align: right;\">\n",
       "      <th></th>\n",
       "      <th>time</th>\n",
       "      <th>I</th>\n",
       "      <th>IQ</th>\n",
       "      <th>ID</th>\n",
       "      <th>V</th>\n",
       "      <th>VQ</th>\n",
       "      <th>VD</th>\n",
       "      <th>torq</th>\n",
       "      <th>power</th>\n",
       "      <th>wR</th>\n",
       "      <th>theta</th>\n",
       "    </tr>\n",
       "  </thead>\n",
       "  <tbody>\n",
       "    <tr>\n",
       "      <th>time</th>\n",
       "      <td>1.000000</td>\n",
       "      <td>0.877879</td>\n",
       "      <td>0.881824</td>\n",
       "      <td>-0.839766</td>\n",
       "      <td>0.224825</td>\n",
       "      <td>0.310478</td>\n",
       "      <td>-0.474434</td>\n",
       "      <td>0.911003</td>\n",
       "      <td>0.966748</td>\n",
       "      <td>0.972828</td>\n",
       "      <td>0.888905</td>\n",
       "    </tr>\n",
       "    <tr>\n",
       "      <th>I</th>\n",
       "      <td>0.877879</td>\n",
       "      <td>1.000000</td>\n",
       "      <td>0.979984</td>\n",
       "      <td>-0.911569</td>\n",
       "      <td>0.624068</td>\n",
       "      <td>0.652728</td>\n",
       "      <td>-0.665297</td>\n",
       "      <td>0.980463</td>\n",
       "      <td>0.778803</td>\n",
       "      <td>0.783457</td>\n",
       "      <td>0.602501</td>\n",
       "    </tr>\n",
       "    <tr>\n",
       "      <th>IQ</th>\n",
       "      <td>0.881824</td>\n",
       "      <td>0.979984</td>\n",
       "      <td>1.000000</td>\n",
       "      <td>-0.967555</td>\n",
       "      <td>0.643325</td>\n",
       "      <td>0.708822</td>\n",
       "      <td>-0.766321</td>\n",
       "      <td>0.979442</td>\n",
       "      <td>0.759006</td>\n",
       "      <td>0.767412</td>\n",
       "      <td>0.585253</td>\n",
       "    </tr>\n",
       "    <tr>\n",
       "      <th>ID</th>\n",
       "      <td>-0.839766</td>\n",
       "      <td>-0.911569</td>\n",
       "      <td>-0.967555</td>\n",
       "      <td>1.000000</td>\n",
       "      <td>-0.632337</td>\n",
       "      <td>-0.727074</td>\n",
       "      <td>0.865110</td>\n",
       "      <td>-0.924512</td>\n",
       "      <td>-0.706219</td>\n",
       "      <td>-0.713770</td>\n",
       "      <td>-0.544331</td>\n",
       "    </tr>\n",
       "    <tr>\n",
       "      <th>V</th>\n",
       "      <td>0.224825</td>\n",
       "      <td>0.624068</td>\n",
       "      <td>0.643325</td>\n",
       "      <td>-0.632337</td>\n",
       "      <td>1.000000</td>\n",
       "      <td>0.976862</td>\n",
       "      <td>-0.814770</td>\n",
       "      <td>0.535865</td>\n",
       "      <td>0.012148</td>\n",
       "      <td>0.021946</td>\n",
       "      <td>-0.188262</td>\n",
       "    </tr>\n",
       "    <tr>\n",
       "      <th>VQ</th>\n",
       "      <td>0.310478</td>\n",
       "      <td>0.652728</td>\n",
       "      <td>0.708822</td>\n",
       "      <td>-0.727074</td>\n",
       "      <td>0.976862</td>\n",
       "      <td>1.000000</td>\n",
       "      <td>-0.904655</td>\n",
       "      <td>0.592678</td>\n",
       "      <td>0.086085</td>\n",
       "      <td>0.098844</td>\n",
       "      <td>-0.110895</td>\n",
       "    </tr>\n",
       "    <tr>\n",
       "      <th>VD</th>\n",
       "      <td>-0.474434</td>\n",
       "      <td>-0.665297</td>\n",
       "      <td>-0.766321</td>\n",
       "      <td>0.865110</td>\n",
       "      <td>-0.814770</td>\n",
       "      <td>-0.904655</td>\n",
       "      <td>1.000000</td>\n",
       "      <td>-0.649757</td>\n",
       "      <td>-0.269468</td>\n",
       "      <td>-0.279782</td>\n",
       "      <td>-0.106303</td>\n",
       "    </tr>\n",
       "    <tr>\n",
       "      <th>torq</th>\n",
       "      <td>0.911003</td>\n",
       "      <td>0.980463</td>\n",
       "      <td>0.979442</td>\n",
       "      <td>-0.924512</td>\n",
       "      <td>0.535865</td>\n",
       "      <td>0.592678</td>\n",
       "      <td>-0.649757</td>\n",
       "      <td>1.000000</td>\n",
       "      <td>0.826362</td>\n",
       "      <td>0.831389</td>\n",
       "      <td>0.650684</td>\n",
       "    </tr>\n",
       "    <tr>\n",
       "      <th>power</th>\n",
       "      <td>0.966748</td>\n",
       "      <td>0.778803</td>\n",
       "      <td>0.759006</td>\n",
       "      <td>-0.706219</td>\n",
       "      <td>0.012148</td>\n",
       "      <td>0.086085</td>\n",
       "      <td>-0.269468</td>\n",
       "      <td>0.826362</td>\n",
       "      <td>1.000000</td>\n",
       "      <td>0.998284</td>\n",
       "      <td>0.954023</td>\n",
       "    </tr>\n",
       "    <tr>\n",
       "      <th>wR</th>\n",
       "      <td>0.972828</td>\n",
       "      <td>0.783457</td>\n",
       "      <td>0.767412</td>\n",
       "      <td>-0.713770</td>\n",
       "      <td>0.021946</td>\n",
       "      <td>0.098844</td>\n",
       "      <td>-0.279782</td>\n",
       "      <td>0.831389</td>\n",
       "      <td>0.998284</td>\n",
       "      <td>1.000000</td>\n",
       "      <td>0.955614</td>\n",
       "    </tr>\n",
       "    <tr>\n",
       "      <th>theta</th>\n",
       "      <td>0.888905</td>\n",
       "      <td>0.602501</td>\n",
       "      <td>0.585253</td>\n",
       "      <td>-0.544331</td>\n",
       "      <td>-0.188262</td>\n",
       "      <td>-0.110895</td>\n",
       "      <td>-0.106303</td>\n",
       "      <td>0.650684</td>\n",
       "      <td>0.954023</td>\n",
       "      <td>0.955614</td>\n",
       "      <td>1.000000</td>\n",
       "    </tr>\n",
       "  </tbody>\n",
       "</table>\n",
       "</div>"
      ],
      "text/plain": [
       "           time         I        IQ        ID         V        VQ        VD  \\\n",
       "time   1.000000  0.877879  0.881824 -0.839766  0.224825  0.310478 -0.474434   \n",
       "I      0.877879  1.000000  0.979984 -0.911569  0.624068  0.652728 -0.665297   \n",
       "IQ     0.881824  0.979984  1.000000 -0.967555  0.643325  0.708822 -0.766321   \n",
       "ID    -0.839766 -0.911569 -0.967555  1.000000 -0.632337 -0.727074  0.865110   \n",
       "V      0.224825  0.624068  0.643325 -0.632337  1.000000  0.976862 -0.814770   \n",
       "VQ     0.310478  0.652728  0.708822 -0.727074  0.976862  1.000000 -0.904655   \n",
       "VD    -0.474434 -0.665297 -0.766321  0.865110 -0.814770 -0.904655  1.000000   \n",
       "torq   0.911003  0.980463  0.979442 -0.924512  0.535865  0.592678 -0.649757   \n",
       "power  0.966748  0.778803  0.759006 -0.706219  0.012148  0.086085 -0.269468   \n",
       "wR     0.972828  0.783457  0.767412 -0.713770  0.021946  0.098844 -0.279782   \n",
       "theta  0.888905  0.602501  0.585253 -0.544331 -0.188262 -0.110895 -0.106303   \n",
       "\n",
       "           torq     power        wR     theta  \n",
       "time   0.911003  0.966748  0.972828  0.888905  \n",
       "I      0.980463  0.778803  0.783457  0.602501  \n",
       "IQ     0.979442  0.759006  0.767412  0.585253  \n",
       "ID    -0.924512 -0.706219 -0.713770 -0.544331  \n",
       "V      0.535865  0.012148  0.021946 -0.188262  \n",
       "VQ     0.592678  0.086085  0.098844 -0.110895  \n",
       "VD    -0.649757 -0.269468 -0.279782 -0.106303  \n",
       "torq   1.000000  0.826362  0.831389  0.650684  \n",
       "power  0.826362  1.000000  0.998284  0.954023  \n",
       "wR     0.831389  0.998284  1.000000  0.955614  \n",
       "theta  0.650684  0.954023  0.955614  1.000000  "
      ]
     },
     "execution_count": 7,
     "metadata": {},
     "output_type": "execute_result"
    }
   ],
   "source": [
    "df.corr()"
   ]
  },
  {
   "cell_type": "code",
   "execution_count": 37,
   "metadata": {},
   "outputs": [
    {
     "data": {
      "text/plain": [
       "Text(37.722222222222214, 0.5, 'wR')"
      ]
     },
     "execution_count": 37,
     "metadata": {},
     "output_type": "execute_result"
    },
    {
     "data": {
      "image/png": "[encoded data removed]",
      "text/plain": [
       "<Figure size 600x600 with 3 Axes>"
      ]
     },
     "metadata": {},
     "output_type": "display_data"
    }
   ],
   "source": [
    "import seaborn as sns\n",
    "sns.jointplot(x='wR', y='time', data=df, kind='reg')\n",
    "plt.xlabel(\"time\")\n",
    "plt.ylabel(\"wR\")"
   ]
  },
  {
   "cell_type": "code",
   "execution_count": 9,
   "metadata": {},
   "outputs": [
    {
     "name": "stderr",
     "output_type": "stream",
     "text": [
      "C:\\Users\\csc\\AppData\\Roaming\\Python\\Python37\\site-packages\\ipykernel_launcher.py:6: DeprecationWarning: `np.bool` is a deprecated alias for the builtin `bool`. To silence this warning, use `bool` by itself. Doing this will not modify any behavior and is safe. If you specifically wanted the numpy scalar type, use `np.bool_` here.\n",
      "Deprecated in NumPy 1.20; for more details and guidance: https://numpy.org/devdocs/release/1.20.0-notes.html#deprecations\n",
      "  \n"
     ]
    },
    {
     "data": {
      "image/png": "[encoded data removed]",
      "text/plain": [
       "<Figure size 1200x1200 with 2 Axes>"
      ]
     },
     "metadata": {},
     "output_type": "display_data"
    }
   ],
   "source": [
    "#correlation map\n",
    "f,ax=plt.subplots(figsize=(12,12))\n",
    "corr=df.corr()\n",
    "\n",
    "sns.heatmap(corr, annot=True, linewidths=.5, fmt='.2f', \n",
    "            mask= np.zeros_like(corr,dtype=np.bool), \n",
    "            cmap=sns.diverging_palette(100,200,as_cmap=True), \n",
    "            square=True, ax=ax)\n",
    "\n",
    "plt.show()"
   ]
  },
  {
   "cell_type": "code",
   "execution_count": 10,
   "metadata": {},
   "outputs": [
    {
     "data": {
      "text/html": [
       "<table class=\"simpletable\">\n",
       "<caption>OLS Regression Results</caption>\n",
       "<tr>\n",
       "  <th>Dep. Variable:</th>           <td>wR</td>        <th>  R-squared:         </th> <td>   0.509</td> \n",
       "</tr>\n",
       "<tr>\n",
       "  <th>Model:</th>                   <td>OLS</td>       <th>  Adj. R-squared:    </th> <td>   0.509</td> \n",
       "</tr>\n",
       "<tr>\n",
       "  <th>Method:</th>             <td>Least Squares</td>  <th>  F-statistic:       </th> <td>   1243.</td> \n",
       "</tr>\n",
       "<tr>\n",
       "  <th>Date:</th>             <td>Mon, 29 May 2023</td> <th>  Prob (F-statistic):</th> <td>2.36e-187</td>\n",
       "</tr>\n",
       "<tr>\n",
       "  <th>Time:</th>                 <td>00:40:42</td>     <th>  Log-Likelihood:    </th> <td> -4635.4</td> \n",
       "</tr>\n",
       "<tr>\n",
       "  <th>No. Observations:</th>      <td>  1199</td>      <th>  AIC:               </th> <td>   9275.</td> \n",
       "</tr>\n",
       "<tr>\n",
       "  <th>Df Residuals:</th>          <td>  1197</td>      <th>  BIC:               </th> <td>   9285.</td> \n",
       "</tr>\n",
       "<tr>\n",
       "  <th>Df Model:</th>              <td>     1</td>      <th>                     </th>     <td> </td>    \n",
       "</tr>\n",
       "<tr>\n",
       "  <th>Covariance Type:</th>      <td>nonrobust</td>    <th>                     </th>     <td> </td>    \n",
       "</tr>\n",
       "</table>\n",
       "<table class=\"simpletable\">\n",
       "<tr>\n",
       "    <td></td>       <th>coef</th>     <th>std err</th>      <th>t</th>      <th>P>|t|</th>  <th>[0.025</th>    <th>0.975]</th>  \n",
       "</tr>\n",
       "<tr>\n",
       "  <th>const</th> <td>    4.5289</td> <td>    0.502</td> <td>    9.028</td> <td> 0.000</td> <td>    3.545</td> <td>    5.513</td>\n",
       "</tr>\n",
       "<tr>\n",
       "  <th>ID</th>    <td>   -0.0970</td> <td>    0.003</td> <td>  -35.259</td> <td> 0.000</td> <td>   -0.102</td> <td>   -0.092</td>\n",
       "</tr>\n",
       "</table>\n",
       "<table class=\"simpletable\">\n",
       "<tr>\n",
       "  <th>Omnibus:</th>       <td>340.035</td> <th>  Durbin-Watson:     </th> <td>   0.000</td>\n",
       "</tr>\n",
       "<tr>\n",
       "  <th>Prob(Omnibus):</th> <td> 0.000</td>  <th>  Jarque-Bera (JB):  </th> <td>  81.418</td>\n",
       "</tr>\n",
       "<tr>\n",
       "  <th>Skew:</th>          <td> 0.373</td>  <th>  Prob(JB):          </th> <td>2.09e-18</td>\n",
       "</tr>\n",
       "<tr>\n",
       "  <th>Kurtosis:</th>      <td> 1.964</td>  <th>  Cond. No.          </th> <td>    274.</td>\n",
       "</tr>\n",
       "</table><br/><br/>Notes:<br/>[1] Standard Errors assume that the covariance matrix of the errors is correctly specified."
      ],
      "text/plain": [
       "<class 'statsmodels.iolib.summary.Summary'>\n",
       "\"\"\"\n",
       "                            OLS Regression Results                            \n",
       "==============================================================================\n",
       "Dep. Variable:                     wR   R-squared:                       0.509\n",
       "Model:                            OLS   Adj. R-squared:                  0.509\n",
       "Method:                 Least Squares   F-statistic:                     1243.\n",
       "Date:                Mon, 29 May 2023   Prob (F-statistic):          2.36e-187\n",
       "Time:                        00:40:42   Log-Likelihood:                -4635.4\n",
       "No. Observations:                1199   AIC:                             9275.\n",
       "Df Residuals:                    1197   BIC:                             9285.\n",
       "Df Model:                           1                                         \n",
       "Covariance Type:            nonrobust                                         \n",
       "==============================================================================\n",
       "                 coef    std err          t      P>|t|      [0.025      0.975]\n",
       "------------------------------------------------------------------------------\n",
       "const          4.5289      0.502      9.028      0.000       3.545       5.513\n",
       "ID            -0.0970      0.003    -35.259      0.000      -0.102      -0.092\n",
       "==============================================================================\n",
       "Omnibus:                      340.035   Durbin-Watson:                   0.000\n",
       "Prob(Omnibus):                  0.000   Jarque-Bera (JB):               81.418\n",
       "Skew:                           0.373   Prob(JB):                     2.09e-18\n",
       "Kurtosis:                       1.964   Cond. No.                         274.\n",
       "==============================================================================\n",
       "\n",
       "Notes:\n",
       "[1] Standard Errors assume that the covariance matrix of the errors is correctly specified.\n",
       "\"\"\""
      ]
     },
     "execution_count": 10,
     "metadata": {},
     "output_type": "execute_result"
    }
   ],
   "source": [
    "import statsmodels.api as sm\n",
    "#Defining dependet and independent variable\n",
    "X = df['ID']\n",
    "X=sm.add_constant(X)\n",
    "\n",
    "y = df['wR']\n",
    "\n",
    "lm=sm.OLS(y,X)\n",
    "model=lm.fit()\n",
    "\n",
    "model.summary()"
   ]
  },
  {
   "cell_type": "code",
   "execution_count": 11,
   "metadata": {},
   "outputs": [],
   "source": [
    "import pandas as pd\n",
    "from sklearn.preprocessing import MinMaxScaler\n",
    "\n",
    "# Load the CSV file into a pandas DataFrame\n",
    "df = pd.read_csv(R'C:\\Users\\csc\\OneDrive\\Desktop\\Python Program\\Project 3- Sensorless Speed Control of PMSM motor using machine learning\\big-DATA.csv')\n",
    "\n",
    "\n",
    "# Extract the columns containing the data to be normalized\n",
    "columns_to_normalize = ['time', 'I','IQ', 'ID', 'V','VQ','VD','wR','theta']\n",
    "\n",
    "# Create a MinMaxScaler object\n",
    "scaler = MinMaxScaler()\n",
    "\n",
    "# Normalize the selected columns\n",
    "df[columns_to_normalize] = scaler.fit_transform(df[columns_to_normalize])\n",
    "\n",
    "# Save the normalized data back to a CSV file\n",
    "df.to_csv('normalized_data.csv', index=False)\n"
   ]
  },
  {
   "cell_type": "code",
   "execution_count": 12,
   "metadata": {},
   "outputs": [
    {
     "data": {
      "text/plain": [
       "const    4.528895\n",
       "ID      -0.096989\n",
       "dtype: float64"
      ]
     },
     "execution_count": 12,
     "metadata": {},
     "output_type": "execute_result"
    }
   ],
   "source": [
    "model.params"
   ]
  },
  {
   "cell_type": "code",
   "execution_count": 13,
   "metadata": {},
   "outputs": [
    {
     "name": "stdout",
     "output_type": "stream",
     "text": [
      "f_pvalue: 0.0000\n"
     ]
    }
   ],
   "source": [
    "print(\"f_pvalue:\", \"%.4f\" % model.f_pvalue)"
   ]
  },
  {
   "cell_type": "code",
   "execution_count": 14,
   "metadata": {},
   "outputs": [
    {
     "data": {
      "text/plain": [
       "166260.31473533704"
      ]
     },
     "execution_count": 14,
     "metadata": {},
     "output_type": "execute_result"
    }
   ],
   "source": [
    "model.mse_model #mean squared error is too much. It is not good."
   ]
  },
  {
   "cell_type": "code",
   "execution_count": 15,
   "metadata": {},
   "outputs": [
    {
     "data": {
      "text/plain": [
       "0.5094677705553714"
      ]
     },
     "execution_count": 15,
     "metadata": {},
     "output_type": "execute_result"
    }
   ],
   "source": [
    "model.rsquared #Not bad"
   ]
  },
  {
   "cell_type": "code",
   "execution_count": 16,
   "metadata": {},
   "outputs": [
    {
     "data": {
      "text/plain": [
       "0.5090579691940977"
      ]
     },
     "execution_count": 16,
     "metadata": {},
     "output_type": "execute_result"
    }
   ],
   "source": [
    "model.rsquared_adj #Not bad"
   ]
  },
  {
   "cell_type": "code",
   "execution_count": 17,
   "metadata": {},
   "outputs": [
    {
     "data": {
      "text/plain": [
       "0    4.343696\n",
       "1    4.158515\n",
       "2    3.973350\n",
       "3    3.788205\n",
       "4    3.603077\n",
       "dtype: float64"
      ]
     },
     "execution_count": 17,
     "metadata": {},
     "output_type": "execute_result"
    }
   ],
   "source": [
    "model.fittedvalues[0:5] #Predicted values"
   ]
  },
  {
   "cell_type": "code",
   "execution_count": 18,
   "metadata": {},
   "outputs": [
    {
     "data": {
      "text/plain": [
       "0    0.00000\n",
       "1   -0.00007\n",
       "2   -0.00020\n",
       "3   -0.00040\n",
       "4   -0.00066\n",
       "Name: wR, dtype: float64"
      ]
     },
     "execution_count": 18,
     "metadata": {},
     "output_type": "execute_result"
    }
   ],
   "source": [
    "y[0:5] #Real values"
   ]
  },
  {
   "cell_type": "code",
   "execution_count": 19,
   "metadata": {},
   "outputs": [
    {
     "name": "stdout",
     "output_type": "stream",
     "text": [
      "Motor speed = 4.529 + i_d*-0.097\n"
     ]
    }
   ],
   "source": [
    "#Model equation\n",
    "print(\"Motor speed = \" + \n",
    "      str(\"%.3f\" % model.params[0]) + ' + i_d' + \"*\" + \n",
    "      str(\"%.3f\" % model.params[1]))"
   ]
  },
  {
   "cell_type": "code",
   "execution_count": 20,
   "metadata": {},
   "outputs": [
    {
     "name": "stdout",
     "output_type": "stream",
     "text": [
      "Index(['time', 'I', 'IQ', 'ID', 'V', 'VQ', 'VD', 'torq', 'power', 'wR',\n",
      "       'theta'],\n",
      "      dtype='object')\n"
     ]
    },
    {
     "data": {
      "image/png": "[encoded data removed]",
      "text/plain": [
       "<Figure size 640x480 with 1 Axes>"
      ]
     },
     "metadata": {},
     "output_type": "display_data"
    }
   ],
   "source": [
    "#Model Visualization \n",
    "import seaborn as sns\n",
    "import pandas as pd\n",
    "\n",
    "# Load data\n",
    "df = pd.read_csv(R'C:\\Users\\csc\\OneDrive\\Desktop\\Python Program\\Project 3- Sensorless Speed Control of PMSM motor using machine learning\\big-DATA.csv')\n",
    "\n",
    "# Create regression plot\n",
    "g = sns.regplot(x='wR', y='time', data=df, ci=None, scatter_kws={'color': 'r', 's':9})\n",
    "\n",
    "# Set plot title and axis labels\n",
    "g.set_title('Model equation: wR = -0.002 + time * -0.725')\n",
    "g.set_ylabel('wR')\n",
    "g.set_xlabel('time')\n",
    "print(df.columns)\n"
   ]
  },
  {
   "cell_type": "code",
   "execution_count": 21,
   "metadata": {},
   "outputs": [
    {
     "data": {
      "text/plain": [
       "11.554738560414846"
      ]
     },
     "execution_count": 21,
     "metadata": {},
     "output_type": "execute_result"
    }
   ],
   "source": [
    "from sklearn.metrics import r2_score,mean_squared_error\n",
    "mse=mean_squared_error(y, model.fittedvalues)\n",
    "rmse=np.sqrt(mse)\n",
    "rmse"
   ]
  },
  {
   "cell_type": "code",
   "execution_count": 22,
   "metadata": {},
   "outputs": [
    {
     "data": {
      "text/html": [
       "<div>\n",
       "<style scoped>\n",
       "    .dataframe tbody tr th:only-of-type {\n",
       "        vertical-align: middle;\n",
       "    }\n",
       "\n",
       "    .dataframe tbody tr th {\n",
       "        vertical-align: top;\n",
       "    }\n",
       "\n",
       "    .dataframe thead th {\n",
       "        text-align: right;\n",
       "    }\n",
       "</style>\n",
       "<table border=\"1\" class=\"dataframe\">\n",
       "  <thead>\n",
       "    <tr style=\"text-align: right;\">\n",
       "      <th></th>\n",
       "      <th>Real_values</th>\n",
       "      <th>Predicted_values</th>\n",
       "      <th>error</th>\n",
       "    </tr>\n",
       "  </thead>\n",
       "  <tbody>\n",
       "    <tr>\n",
       "      <th>0</th>\n",
       "      <td>0.00000</td>\n",
       "      <td>4.343696</td>\n",
       "      <td>-4.343696</td>\n",
       "    </tr>\n",
       "    <tr>\n",
       "      <th>1</th>\n",
       "      <td>-0.00007</td>\n",
       "      <td>4.158515</td>\n",
       "      <td>-4.158585</td>\n",
       "    </tr>\n",
       "    <tr>\n",
       "      <th>2</th>\n",
       "      <td>-0.00020</td>\n",
       "      <td>3.973350</td>\n",
       "      <td>-3.973550</td>\n",
       "    </tr>\n",
       "    <tr>\n",
       "      <th>3</th>\n",
       "      <td>-0.00040</td>\n",
       "      <td>3.788205</td>\n",
       "      <td>-3.788605</td>\n",
       "    </tr>\n",
       "    <tr>\n",
       "      <th>4</th>\n",
       "      <td>-0.00066</td>\n",
       "      <td>3.603077</td>\n",
       "      <td>-3.603737</td>\n",
       "    </tr>\n",
       "  </tbody>\n",
       "</table>\n",
       "</div>"
      ],
      "text/plain": [
       "   Real_values  Predicted_values     error\n",
       "0      0.00000          4.343696 -4.343696\n",
       "1     -0.00007          4.158515 -4.158585\n",
       "2     -0.00020          3.973350 -3.973550\n",
       "3     -0.00040          3.788205 -3.788605\n",
       "4     -0.00066          3.603077 -3.603737"
      ]
     },
     "execution_count": 22,
     "metadata": {},
     "output_type": "execute_result"
    }
   ],
   "source": [
    "k_t=pd.DataFrame({'Real_values':y[0:50], \n",
    "                  'Predicted_values' :model.fittedvalues[0:50]})\n",
    "k_t['error']=k_t['Real_values']-k_t['Predicted_values']\n",
    "k_t.head()"
   ]
  },
  {
   "cell_type": "code",
   "execution_count": 23,
   "metadata": {},
   "outputs": [
    {
     "data": {
      "text/plain": [
       "0   -4.343696\n",
       "1   -4.158585\n",
       "2   -3.973550\n",
       "3   -3.788605\n",
       "4   -3.603737\n",
       "5   -3.418957\n",
       "6   -3.234255\n",
       "7   -3.049641\n",
       "8   -2.865104\n",
       "9   -2.680656\n",
       "dtype: float64"
      ]
     },
     "execution_count": 23,
     "metadata": {},
     "output_type": "execute_result"
    }
   ],
   "source": [
    "model.resid[0:10] #It is easy way to learn residuals."
   ]
  },
  {
   "cell_type": "code",
   "execution_count": 24,
   "metadata": {},
   "outputs": [
    {
     "data": {
      "image/png": "[encoded data removed]",
      "text/plain": [
       "<Figure size 640x480 with 1 Axes>"
      ]
     },
     "metadata": {},
     "output_type": "display_data"
    }
   ],
   "source": [
    "plt.plot(model.resid);"
   ]
  },
  {
   "cell_type": "code",
   "execution_count": 25,
   "metadata": {},
   "outputs": [
    {
     "data": {
      "text/html": [
       "<table class=\"simpletable\">\n",
       "<caption>OLS Regression Results</caption>\n",
       "<tr>\n",
       "  <th>Dep. Variable:</th>           <td>wR</td>        <th>  R-squared:         </th> <td>   0.078</td> \n",
       "</tr>\n",
       "<tr>\n",
       "  <th>Model:</th>                   <td>OLS</td>       <th>  Adj. R-squared:    </th> <td>   0.078</td> \n",
       "</tr>\n",
       "<tr>\n",
       "  <th>Method:</th>             <td>Least Squares</td>  <th>  F-statistic:       </th> <td>   101.7</td> \n",
       "</tr>\n",
       "<tr>\n",
       "  <th>Date:</th>             <td>Mon, 29 May 2023</td> <th>  Prob (F-statistic):</th> <td>5.31e-23</td> \n",
       "</tr>\n",
       "<tr>\n",
       "  <th>Time:</th>                 <td>00:40:45</td>     <th>  Log-Likelihood:    </th> <td> -5013.5</td> \n",
       "</tr>\n",
       "<tr>\n",
       "  <th>No. Observations:</th>      <td>  1199</td>      <th>  AIC:               </th> <td>1.003e+04</td>\n",
       "</tr>\n",
       "<tr>\n",
       "  <th>Df Residuals:</th>          <td>  1197</td>      <th>  BIC:               </th> <td>1.004e+04</td>\n",
       "</tr>\n",
       "<tr>\n",
       "  <th>Df Model:</th>              <td>     1</td>      <th>                     </th>     <td> </td>    \n",
       "</tr>\n",
       "<tr>\n",
       "  <th>Covariance Type:</th>      <td>nonrobust</td>    <th>                     </th>     <td> </td>    \n",
       "</tr>\n",
       "</table>\n",
       "<table class=\"simpletable\">\n",
       "<tr>\n",
       "    <td></td>       <th>coef</th>     <th>std err</th>      <th>t</th>      <th>P>|t|</th>  <th>[0.025</th>    <th>0.975]</th>  \n",
       "</tr>\n",
       "<tr>\n",
       "  <th>const</th> <td>   13.3347</td> <td>    0.632</td> <td>   21.099</td> <td> 0.000</td> <td>   12.095</td> <td>   14.575</td>\n",
       "</tr>\n",
       "<tr>\n",
       "  <th>VD</th>    <td>   -0.3259</td> <td>    0.032</td> <td>  -10.082</td> <td> 0.000</td> <td>   -0.389</td> <td>   -0.263</td>\n",
       "</tr>\n",
       "</table>\n",
       "<table class=\"simpletable\">\n",
       "<tr>\n",
       "  <th>Omnibus:</th>       <td>324.018</td> <th>  Durbin-Watson:     </th> <td>   0.000</td>\n",
       "</tr>\n",
       "<tr>\n",
       "  <th>Prob(Omnibus):</th> <td> 0.000</td>  <th>  Jarque-Bera (JB):  </th> <td> 129.424</td>\n",
       "</tr>\n",
       "<tr>\n",
       "  <th>Skew:</th>          <td> 0.632</td>  <th>  Prob(JB):          </th> <td>7.87e-29</td>\n",
       "</tr>\n",
       "<tr>\n",
       "  <th>Kurtosis:</th>      <td> 2.003</td>  <th>  Cond. No.          </th> <td>    27.0</td>\n",
       "</tr>\n",
       "</table><br/><br/>Notes:<br/>[1] Standard Errors assume that the covariance matrix of the errors is correctly specified."
      ],
      "text/plain": [
       "<class 'statsmodels.iolib.summary.Summary'>\n",
       "\"\"\"\n",
       "                            OLS Regression Results                            \n",
       "==============================================================================\n",
       "Dep. Variable:                     wR   R-squared:                       0.078\n",
       "Model:                            OLS   Adj. R-squared:                  0.078\n",
       "Method:                 Least Squares   F-statistic:                     101.7\n",
       "Date:                Mon, 29 May 2023   Prob (F-statistic):           5.31e-23\n",
       "Time:                        00:40:45   Log-Likelihood:                -5013.5\n",
       "No. Observations:                1199   AIC:                         1.003e+04\n",
       "Df Residuals:                    1197   BIC:                         1.004e+04\n",
       "Df Model:                           1                                         \n",
       "Covariance Type:            nonrobust                                         \n",
       "==============================================================================\n",
       "                 coef    std err          t      P>|t|      [0.025      0.975]\n",
       "------------------------------------------------------------------------------\n",
       "const         13.3347      0.632     21.099      0.000      12.095      14.575\n",
       "VD            -0.3259      0.032    -10.082      0.000      -0.389      -0.263\n",
       "==============================================================================\n",
       "Omnibus:                      324.018   Durbin-Watson:                   0.000\n",
       "Prob(Omnibus):                  0.000   Jarque-Bera (JB):              129.424\n",
       "Skew:                           0.632   Prob(JB):                     7.87e-29\n",
       "Kurtosis:                       2.003   Cond. No.                         27.0\n",
       "==============================================================================\n",
       "\n",
       "Notes:\n",
       "[1] Standard Errors assume that the covariance matrix of the errors is correctly specified.\n",
       "\"\"\""
      ]
     },
     "execution_count": 25,
     "metadata": {},
     "output_type": "execute_result"
    }
   ],
   "source": [
    "import statsmodels.api as sm\n",
    "#Defining dependet and independent variable\n",
    "X = df['VD']\n",
    "X=sm.add_constant(X)\n",
    "\n",
    "y = df['wR']\n",
    "\n",
    "lm=sm.OLS(y,X)\n",
    "model=lm.fit()\n",
    "\n",
    "model.summary()"
   ]
  },
  {
   "cell_type": "code",
   "execution_count": 26,
   "metadata": {},
   "outputs": [
    {
     "data": {
      "text/plain": [
       "const    13.334701\n",
       "VD       -0.325928\n",
       "dtype: float64"
      ]
     },
     "execution_count": 26,
     "metadata": {},
     "output_type": "execute_result"
    }
   ],
   "source": [
    "model.params"
   ]
  },
  {
   "cell_type": "code",
   "execution_count": 27,
   "metadata": {},
   "outputs": [
    {
     "name": "stdout",
     "output_type": "stream",
     "text": [
      "f_pvalue: 0.0000\n"
     ]
    }
   ],
   "source": [
    "print(\"f_pvalue:\", \"%.4f\" % model.f_pvalue)"
   ]
  },
  {
   "cell_type": "code",
   "execution_count": 28,
   "metadata": {},
   "outputs": [
    {
     "data": {
      "text/plain": [
       "25545.300719313498"
      ]
     },
     "execution_count": 28,
     "metadata": {},
     "output_type": "execute_result"
    }
   ],
   "source": [
    "model.mse_model #mean squared error is too much. It is not good."
   ]
  },
  {
   "cell_type": "code",
   "execution_count": 29,
   "metadata": {},
   "outputs": [
    {
     "data": {
      "text/plain": [
       "0.07827789467590285"
      ]
     },
     "execution_count": 29,
     "metadata": {},
     "output_type": "execute_result"
    }
   ],
   "source": [
    "model.rsquared #Not bad"
   ]
  },
  {
   "cell_type": "code",
   "execution_count": 30,
   "metadata": {},
   "outputs": [
    {
     "data": {
      "text/plain": [
       "0    13.226421\n",
       "1    13.118356\n",
       "2    13.010510\n",
       "3    12.902875\n",
       "4    12.795459\n",
       "dtype: float64"
      ]
     },
     "execution_count": 30,
     "metadata": {},
     "output_type": "execute_result"
    }
   ],
   "source": [
    "model.fittedvalues[0:5] #Predicted values"
   ]
  },
  {
   "cell_type": "code",
   "execution_count": 31,
   "metadata": {},
   "outputs": [
    {
     "data": {
      "text/plain": [
       "0    0.00000\n",
       "1   -0.00007\n",
       "2   -0.00020\n",
       "3   -0.00040\n",
       "4   -0.00066\n",
       "Name: wR, dtype: float64"
      ]
     },
     "execution_count": 31,
     "metadata": {},
     "output_type": "execute_result"
    }
   ],
   "source": [
    "y[0:5] #Real values"
   ]
  },
  {
   "cell_type": "code",
   "execution_count": 32,
   "metadata": {},
   "outputs": [
    {
     "name": "stdout",
     "output_type": "stream",
     "text": [
      "Motor speed = 13.335 + VD*-0.326\n"
     ]
    }
   ],
   "source": [
    "#Model equation\n",
    "print(\"Motor speed = \" +\n",
    "      str(\"%.3f\" % model.params[0]) + ' + VD' + \"*\" + \n",
    "      str(\"%.3f\" % model.params[1]))"
   ]
  },
  {
   "cell_type": "code",
   "execution_count": 33,
   "metadata": {},
   "outputs": [
    {
     "ename": "KeyError",
     "evalue": "'torque'",
     "output_type": "error",
     "traceback": [
      "\u001b[1;31m---------------------------------------------------------------------------\u001b[0m",
      "\u001b[1;31mKeyError\u001b[0m                                  Traceback (most recent call last)",
      "\u001b[1;32mc:\\Users\\csc\\AppData\\Local\\Programs\\Python\\Python37\\lib\\site-packages\\pandas\\core\\indexes\\base.py\u001b[0m in \u001b[0;36mget_loc\u001b[1;34m(self, key, method, tolerance)\u001b[0m\n\u001b[0;32m   3360\u001b[0m             \u001b[1;32mtry\u001b[0m\u001b[1;33m:\u001b[0m\u001b[1;33m\u001b[0m\u001b[1;33m\u001b[0m\u001b[0m\n\u001b[1;32m-> 3361\u001b[1;33m                 \u001b[1;32mreturn\u001b[0m \u001b[0mself\u001b[0m\u001b[1;33m.\u001b[0m\u001b[0m_engine\u001b[0m\u001b[1;33m.\u001b[0m\u001b[0mget_loc\u001b[0m\u001b[1;33m(\u001b[0m\u001b[0mcasted_key\u001b[0m\u001b[1;33m)\u001b[0m\u001b[1;33m\u001b[0m\u001b[1;33m\u001b[0m\u001b[0m\n\u001b[0m\u001b[0;32m   3362\u001b[0m             \u001b[1;32mexcept\u001b[0m \u001b[0mKeyError\u001b[0m \u001b[1;32mas\u001b[0m \u001b[0merr\u001b[0m\u001b[1;33m:\u001b[0m\u001b[1;33m\u001b[0m\u001b[1;33m\u001b[0m\u001b[0m\n",
      "\u001b[1;32mc:\\Users\\csc\\AppData\\Local\\Programs\\Python\\Python37\\lib\\site-packages\\pandas\\_libs\\index.pyx\u001b[0m in \u001b[0;36mpandas._libs.index.IndexEngine.get_loc\u001b[1;34m()\u001b[0m\n",
      "\u001b[1;32mc:\\Users\\csc\\AppData\\Local\\Programs\\Python\\Python37\\lib\\site-packages\\pandas\\_libs\\index.pyx\u001b[0m in \u001b[0;36mpandas._libs.index.IndexEngine.get_loc\u001b[1;34m()\u001b[0m\n",
      "\u001b[1;32mpandas\\_libs\\hashtable_class_helper.pxi\u001b[0m in \u001b[0;36mpandas._libs.hashtable.PyObjectHashTable.get_item\u001b[1;34m()\u001b[0m\n",
      "\u001b[1;32mpandas\\_libs\\hashtable_class_helper.pxi\u001b[0m in \u001b[0;36mpandas._libs.hashtable.PyObjectHashTable.get_item\u001b[1;34m()\u001b[0m\n",
      "\u001b[1;31mKeyError\u001b[0m: 'torque'",
      "\nThe above exception was the direct cause of the following exception:\n",
      "\u001b[1;31mKeyError\u001b[0m                                  Traceback (most recent call last)",
      "\u001b[1;32m~\\AppData\\Local\\Temp\\ipykernel_8348\\620976645.py\u001b[0m in \u001b[0;36m<module>\u001b[1;34m\u001b[0m\n\u001b[0;32m      7\u001b[0m \u001b[1;33m\u001b[0m\u001b[0m\n\u001b[0;32m      8\u001b[0m \u001b[1;31m# Create regression plot\u001b[0m\u001b[1;33m\u001b[0m\u001b[1;33m\u001b[0m\u001b[1;33m\u001b[0m\u001b[0m\n\u001b[1;32m----> 9\u001b[1;33m \u001b[0mg\u001b[0m \u001b[1;33m=\u001b[0m \u001b[0msns\u001b[0m\u001b[1;33m.\u001b[0m\u001b[0mregplot\u001b[0m\u001b[1;33m(\u001b[0m\u001b[0mx\u001b[0m\u001b[1;33m=\u001b[0m\u001b[1;34m'time'\u001b[0m\u001b[1;33m,\u001b[0m \u001b[0my\u001b[0m\u001b[1;33m=\u001b[0m\u001b[1;34m'torque'\u001b[0m\u001b[1;33m,\u001b[0m \u001b[0mdata\u001b[0m\u001b[1;33m=\u001b[0m\u001b[0mdf\u001b[0m\u001b[1;33m,\u001b[0m \u001b[0mci\u001b[0m\u001b[1;33m=\u001b[0m\u001b[1;32mNone\u001b[0m\u001b[1;33m,\u001b[0m \u001b[0mscatter_kws\u001b[0m\u001b[1;33m=\u001b[0m\u001b[1;33m{\u001b[0m\u001b[1;34m'color'\u001b[0m\u001b[1;33m:\u001b[0m \u001b[1;34m'r'\u001b[0m\u001b[1;33m,\u001b[0m \u001b[1;34m's'\u001b[0m\u001b[1;33m:\u001b[0m\u001b[1;36m9\u001b[0m\u001b[1;33m}\u001b[0m\u001b[1;33m)\u001b[0m\u001b[1;33m\u001b[0m\u001b[1;33m\u001b[0m\u001b[0m\n\u001b[0m\u001b[0;32m     10\u001b[0m \u001b[1;33m\u001b[0m\u001b[0m\n\u001b[0;32m     11\u001b[0m \u001b[1;31m# Set plot title and axis labels\u001b[0m\u001b[1;33m\u001b[0m\u001b[1;33m\u001b[0m\u001b[1;33m\u001b[0m\u001b[0m\n",
      "\u001b[1;32mc:\\Users\\csc\\AppData\\Local\\Programs\\Python\\Python37\\lib\\site-packages\\seaborn\\regression.py\u001b[0m in \u001b[0;36mregplot\u001b[1;34m(data, x, y, x_estimator, x_bins, x_ci, scatter, fit_reg, ci, n_boot, units, seed, order, logistic, lowess, robust, logx, x_partial, y_partial, truncate, dropna, x_jitter, y_jitter, label, color, marker, scatter_kws, line_kws, ax)\u001b[0m\n\u001b[0;32m    749\u001b[0m                                  \u001b[0morder\u001b[0m\u001b[1;33m,\u001b[0m \u001b[0mlogistic\u001b[0m\u001b[1;33m,\u001b[0m \u001b[0mlowess\u001b[0m\u001b[1;33m,\u001b[0m \u001b[0mrobust\u001b[0m\u001b[1;33m,\u001b[0m \u001b[0mlogx\u001b[0m\u001b[1;33m,\u001b[0m\u001b[1;33m\u001b[0m\u001b[1;33m\u001b[0m\u001b[0m\n\u001b[0;32m    750\u001b[0m                                  \u001b[0mx_partial\u001b[0m\u001b[1;33m,\u001b[0m \u001b[0my_partial\u001b[0m\u001b[1;33m,\u001b[0m \u001b[0mtruncate\u001b[0m\u001b[1;33m,\u001b[0m \u001b[0mdropna\u001b[0m\u001b[1;33m,\u001b[0m\u001b[1;33m\u001b[0m\u001b[1;33m\u001b[0m\u001b[0m\n\u001b[1;32m--> 751\u001b[1;33m                                  x_jitter, y_jitter, color, label)\n\u001b[0m\u001b[0;32m    752\u001b[0m \u001b[1;33m\u001b[0m\u001b[0m\n\u001b[0;32m    753\u001b[0m     \u001b[1;32mif\u001b[0m \u001b[0max\u001b[0m \u001b[1;32mis\u001b[0m \u001b[1;32mNone\u001b[0m\u001b[1;33m:\u001b[0m\u001b[1;33m\u001b[0m\u001b[1;33m\u001b[0m\u001b[0m\n",
      "\u001b[1;32mc:\\Users\\csc\\AppData\\Local\\Programs\\Python\\Python37\\lib\\site-packages\\seaborn\\regression.py\u001b[0m in \u001b[0;36m__init__\u001b[1;34m(self, x, y, data, x_estimator, x_bins, x_ci, scatter, fit_reg, ci, n_boot, units, seed, order, logistic, lowess, robust, logx, x_partial, y_partial, truncate, dropna, x_jitter, y_jitter, color, label)\u001b[0m\n\u001b[0;32m    106\u001b[0m         \u001b[1;31m# Extract the data vals from the arguments or passed dataframe\u001b[0m\u001b[1;33m\u001b[0m\u001b[1;33m\u001b[0m\u001b[1;33m\u001b[0m\u001b[0m\n\u001b[0;32m    107\u001b[0m         self.establish_variables(data, x=x, y=y, units=units,\n\u001b[1;32m--> 108\u001b[1;33m                                  x_partial=x_partial, y_partial=y_partial)\n\u001b[0m\u001b[0;32m    109\u001b[0m \u001b[1;33m\u001b[0m\u001b[0m\n\u001b[0;32m    110\u001b[0m         \u001b[1;31m# Drop null observations\u001b[0m\u001b[1;33m\u001b[0m\u001b[1;33m\u001b[0m\u001b[1;33m\u001b[0m\u001b[0m\n",
      "\u001b[1;32mc:\\Users\\csc\\AppData\\Local\\Programs\\Python\\Python37\\lib\\site-packages\\seaborn\\regression.py\u001b[0m in \u001b[0;36mestablish_variables\u001b[1;34m(self, data, **kws)\u001b[0m\n\u001b[0;32m     42\u001b[0m         \u001b[1;32mfor\u001b[0m \u001b[0mvar\u001b[0m\u001b[1;33m,\u001b[0m \u001b[0mval\u001b[0m \u001b[1;32min\u001b[0m \u001b[0mkws\u001b[0m\u001b[1;33m.\u001b[0m\u001b[0mitems\u001b[0m\u001b[1;33m(\u001b[0m\u001b[1;33m)\u001b[0m\u001b[1;33m:\u001b[0m\u001b[1;33m\u001b[0m\u001b[1;33m\u001b[0m\u001b[0m\n\u001b[0;32m     43\u001b[0m             \u001b[1;32mif\u001b[0m \u001b[0misinstance\u001b[0m\u001b[1;33m(\u001b[0m\u001b[0mval\u001b[0m\u001b[1;33m,\u001b[0m \u001b[0mstr\u001b[0m\u001b[1;33m)\u001b[0m\u001b[1;33m:\u001b[0m\u001b[1;33m\u001b[0m\u001b[1;33m\u001b[0m\u001b[0m\n\u001b[1;32m---> 44\u001b[1;33m                 \u001b[0mvector\u001b[0m \u001b[1;33m=\u001b[0m \u001b[0mdata\u001b[0m\u001b[1;33m[\u001b[0m\u001b[0mval\u001b[0m\u001b[1;33m]\u001b[0m\u001b[1;33m\u001b[0m\u001b[1;33m\u001b[0m\u001b[0m\n\u001b[0m\u001b[0;32m     45\u001b[0m             \u001b[1;32melif\u001b[0m \u001b[0misinstance\u001b[0m\u001b[1;33m(\u001b[0m\u001b[0mval\u001b[0m\u001b[1;33m,\u001b[0m \u001b[0mlist\u001b[0m\u001b[1;33m)\u001b[0m\u001b[1;33m:\u001b[0m\u001b[1;33m\u001b[0m\u001b[1;33m\u001b[0m\u001b[0m\n\u001b[0;32m     46\u001b[0m                 \u001b[0mvector\u001b[0m \u001b[1;33m=\u001b[0m \u001b[0mnp\u001b[0m\u001b[1;33m.\u001b[0m\u001b[0masarray\u001b[0m\u001b[1;33m(\u001b[0m\u001b[0mval\u001b[0m\u001b[1;33m)\u001b[0m\u001b[1;33m\u001b[0m\u001b[1;33m\u001b[0m\u001b[0m\n",
      "\u001b[1;32mc:\\Users\\csc\\AppData\\Local\\Programs\\Python\\Python37\\lib\\site-packages\\pandas\\core\\frame.py\u001b[0m in \u001b[0;36m__getitem__\u001b[1;34m(self, key)\u001b[0m\n\u001b[0;32m   3456\u001b[0m             \u001b[1;32mif\u001b[0m \u001b[0mself\u001b[0m\u001b[1;33m.\u001b[0m\u001b[0mcolumns\u001b[0m\u001b[1;33m.\u001b[0m\u001b[0mnlevels\u001b[0m \u001b[1;33m>\u001b[0m \u001b[1;36m1\u001b[0m\u001b[1;33m:\u001b[0m\u001b[1;33m\u001b[0m\u001b[1;33m\u001b[0m\u001b[0m\n\u001b[0;32m   3457\u001b[0m                 \u001b[1;32mreturn\u001b[0m \u001b[0mself\u001b[0m\u001b[1;33m.\u001b[0m\u001b[0m_getitem_multilevel\u001b[0m\u001b[1;33m(\u001b[0m\u001b[0mkey\u001b[0m\u001b[1;33m)\u001b[0m\u001b[1;33m\u001b[0m\u001b[1;33m\u001b[0m\u001b[0m\n\u001b[1;32m-> 3458\u001b[1;33m             \u001b[0mindexer\u001b[0m \u001b[1;33m=\u001b[0m \u001b[0mself\u001b[0m\u001b[1;33m.\u001b[0m\u001b[0mcolumns\u001b[0m\u001b[1;33m.\u001b[0m\u001b[0mget_loc\u001b[0m\u001b[1;33m(\u001b[0m\u001b[0mkey\u001b[0m\u001b[1;33m)\u001b[0m\u001b[1;33m\u001b[0m\u001b[1;33m\u001b[0m\u001b[0m\n\u001b[0m\u001b[0;32m   3459\u001b[0m             \u001b[1;32mif\u001b[0m \u001b[0mis_integer\u001b[0m\u001b[1;33m(\u001b[0m\u001b[0mindexer\u001b[0m\u001b[1;33m)\u001b[0m\u001b[1;33m:\u001b[0m\u001b[1;33m\u001b[0m\u001b[1;33m\u001b[0m\u001b[0m\n\u001b[0;32m   3460\u001b[0m                 \u001b[0mindexer\u001b[0m \u001b[1;33m=\u001b[0m \u001b[1;33m[\u001b[0m\u001b[0mindexer\u001b[0m\u001b[1;33m]\u001b[0m\u001b[1;33m\u001b[0m\u001b[1;33m\u001b[0m\u001b[0m\n",
      "\u001b[1;32mc:\\Users\\csc\\AppData\\Local\\Programs\\Python\\Python37\\lib\\site-packages\\pandas\\core\\indexes\\base.py\u001b[0m in \u001b[0;36mget_loc\u001b[1;34m(self, key, method, tolerance)\u001b[0m\n\u001b[0;32m   3361\u001b[0m                 \u001b[1;32mreturn\u001b[0m \u001b[0mself\u001b[0m\u001b[1;33m.\u001b[0m\u001b[0m_engine\u001b[0m\u001b[1;33m.\u001b[0m\u001b[0mget_loc\u001b[0m\u001b[1;33m(\u001b[0m\u001b[0mcasted_key\u001b[0m\u001b[1;33m)\u001b[0m\u001b[1;33m\u001b[0m\u001b[1;33m\u001b[0m\u001b[0m\n\u001b[0;32m   3362\u001b[0m             \u001b[1;32mexcept\u001b[0m \u001b[0mKeyError\u001b[0m \u001b[1;32mas\u001b[0m \u001b[0merr\u001b[0m\u001b[1;33m:\u001b[0m\u001b[1;33m\u001b[0m\u001b[1;33m\u001b[0m\u001b[0m\n\u001b[1;32m-> 3363\u001b[1;33m                 \u001b[1;32mraise\u001b[0m \u001b[0mKeyError\u001b[0m\u001b[1;33m(\u001b[0m\u001b[0mkey\u001b[0m\u001b[1;33m)\u001b[0m \u001b[1;32mfrom\u001b[0m \u001b[0merr\u001b[0m\u001b[1;33m\u001b[0m\u001b[1;33m\u001b[0m\u001b[0m\n\u001b[0m\u001b[0;32m   3364\u001b[0m \u001b[1;33m\u001b[0m\u001b[0m\n\u001b[0;32m   3365\u001b[0m         \u001b[1;32mif\u001b[0m \u001b[0mis_scalar\u001b[0m\u001b[1;33m(\u001b[0m\u001b[0mkey\u001b[0m\u001b[1;33m)\u001b[0m \u001b[1;32mand\u001b[0m \u001b[0misna\u001b[0m\u001b[1;33m(\u001b[0m\u001b[0mkey\u001b[0m\u001b[1;33m)\u001b[0m \u001b[1;32mand\u001b[0m \u001b[1;32mnot\u001b[0m \u001b[0mself\u001b[0m\u001b[1;33m.\u001b[0m\u001b[0mhasnans\u001b[0m\u001b[1;33m:\u001b[0m\u001b[1;33m\u001b[0m\u001b[1;33m\u001b[0m\u001b[0m\n",
      "\u001b[1;31mKeyError\u001b[0m: 'torque'"
     ]
    }
   ],
   "source": [
    "#Model Visualization \n",
    "import seaborn as sns\n",
    "import pandas as pd\n",
    "\n",
    "# Load data\n",
    "df = pd.read_csv(R'C:\\Users\\csc\\OneDrive\\Desktop\\Python Program\\Project 3- Sensorless Speed Control of PMSM motor using machine learning\\big-DATA.csv')\n",
    "\n",
    "# Create regression plot\n",
    "g = sns.regplot(x='time', y='torque', data=df, ci=None, scatter_kws={'color': 'r', 's':9})\n",
    "\n",
    "# Set plot title and axis labels\n",
    "g.set_title('Model equation: torque = -0.002 + time * -0.725')\n",
    "g.set_ylabel('torque')\n",
    "g.set_xlabel('time')\n"
   ]
  },
  {
   "cell_type": "code",
   "execution_count": null,
   "metadata": {},
   "outputs": [
    {
     "data": {
      "text/plain": [
       "15.838948675322719"
      ]
     },
     "execution_count": 34,
     "metadata": {},
     "output_type": "execute_result"
    }
   ],
   "source": [
    "from sklearn.metrics import r2_score,mean_squared_error\n",
    "\n",
    "mse=mean_squared_error(y, model.fittedvalues)\n",
    "rmse=np.sqrt(mse)\n",
    "rmse"
   ]
  },
  {
   "cell_type": "code",
   "execution_count": null,
   "metadata": {},
   "outputs": [
    {
     "data": {
      "text/html": [
       "<div>\n",
       "<style scoped>\n",
       "    .dataframe tbody tr th:only-of-type {\n",
       "        vertical-align: middle;\n",
       "    }\n",
       "\n",
       "    .dataframe tbody tr th {\n",
       "        vertical-align: top;\n",
       "    }\n",
       "\n",
       "    .dataframe thead th {\n",
       "        text-align: right;\n",
       "    }\n",
       "</style>\n",
       "<table border=\"1\" class=\"dataframe\">\n",
       "  <thead>\n",
       "    <tr style=\"text-align: right;\">\n",
       "      <th></th>\n",
       "      <th>Real_values</th>\n",
       "      <th>Predicted_values</th>\n",
       "      <th>error</th>\n",
       "    </tr>\n",
       "  </thead>\n",
       "  <tbody>\n",
       "    <tr>\n",
       "      <th>0</th>\n",
       "      <td>0.00000</td>\n",
       "      <td>13.226421</td>\n",
       "      <td>-13.226421</td>\n",
       "    </tr>\n",
       "    <tr>\n",
       "      <th>1</th>\n",
       "      <td>-0.00007</td>\n",
       "      <td>13.118356</td>\n",
       "      <td>-13.118426</td>\n",
       "    </tr>\n",
       "    <tr>\n",
       "      <th>2</th>\n",
       "      <td>-0.00020</td>\n",
       "      <td>13.010510</td>\n",
       "      <td>-13.010710</td>\n",
       "    </tr>\n",
       "    <tr>\n",
       "      <th>3</th>\n",
       "      <td>-0.00040</td>\n",
       "      <td>12.902875</td>\n",
       "      <td>-12.903275</td>\n",
       "    </tr>\n",
       "    <tr>\n",
       "      <th>4</th>\n",
       "      <td>-0.00066</td>\n",
       "      <td>12.795459</td>\n",
       "      <td>-12.796119</td>\n",
       "    </tr>\n",
       "  </tbody>\n",
       "</table>\n",
       "</div>"
      ],
      "text/plain": [
       "   Real_values  Predicted_values      error\n",
       "0      0.00000         13.226421 -13.226421\n",
       "1     -0.00007         13.118356 -13.118426\n",
       "2     -0.00020         13.010510 -13.010710\n",
       "3     -0.00040         12.902875 -12.903275\n",
       "4     -0.00066         12.795459 -12.796119"
      ]
     },
     "execution_count": 35,
     "metadata": {},
     "output_type": "execute_result"
    }
   ],
   "source": [
    "k_t=pd.DataFrame({'Real_values':y[0:50], \n",
    "                  'Predicted_values' :model.fittedvalues[0:50]})\n",
    "k_t['error']=k_t['Real_values']-k_t['Predicted_values']\n",
    "k_t.head()"
   ]
  },
  {
   "cell_type": "code",
   "execution_count": null,
   "metadata": {},
   "outputs": [
    {
     "data": {
      "text/plain": [
       "0   -13.226421\n",
       "1   -13.118426\n",
       "2   -13.010710\n",
       "3   -12.903275\n",
       "4   -12.796119\n",
       "5   -12.689248\n",
       "6   -12.582649\n",
       "7   -12.476335\n",
       "8   -12.370296\n",
       "9   -12.264535\n",
       "dtype: float64"
      ]
     },
     "execution_count": 36,
     "metadata": {},
     "output_type": "execute_result"
    }
   ],
   "source": [
    "model.resid[0:10] #It easy way to learn residuals."
   ]
  },
  {
   "cell_type": "code",
   "execution_count": null,
   "metadata": {},
   "outputs": [
    {
     "name": "stdout",
     "output_type": "stream",
     "text": [
      "theta = 0.00018804664472094545 + 7.890223180930223e-06 * I  + -4.3198739756084706e-05 * V\n"
     ]
    }
   ],
   "source": [
    "#FORMULA FOR THETA USING LINEAR REGRESSION\n",
    "\n",
    "import pandas as pd\n",
    "from sklearn.linear_model import LinearRegression\n",
    "\n",
    "# Load the dataset\n",
    "df = pd.read_csv(R'C:\\Users\\csc\\OneDrive\\Desktop\\Python Program\\Project 3- Sensorless Speed Control of PMSM motor using machine learning\\big-DATA.csv')\n",
    "\n",
    "# Select the columns to use in the model\n",
    "X = df[['I', 'V']]\n",
    "y = df['theta']\n",
    "\n",
    "# Create a linear regression model\n",
    "model = LinearRegression()\n",
    "\n",
    "# Fit the model to the data\n",
    "model.fit(X, y)\n",
    "\n",
    "# Print the coefficients of the model\n",
    "print(f'theta = {model.intercept_} + {model.coef_[0]} * I  + {model.coef_[1]} * V')\n"
   ]
  },
  {
   "cell_type": "code",
   "execution_count": null,
   "metadata": {},
   "outputs": [
    {
     "name": "stdout",
     "output_type": "stream",
     "text": [
      "wR = -0.013487343765569704 + 1.2627722571390583 * I  + -0.9946226623605675 * V\n"
     ]
    }
   ],
   "source": [
    "#FORMULA FOR SPEED USING LINEAR REGRESSION\n",
    "\n",
    "import pandas as pd\n",
    "from sklearn.linear_model import LinearRegression\n",
    "\n",
    "# Load the dataset\n",
    "df = pd.read_csv(R'C:\\Users\\csc\\OneDrive\\Desktop\\Python Program\\Project 3- Sensorless Speed Control of PMSM motor using machine learning\\normalized_data.csv')\n",
    "\n",
    "# Select the columns to use in the model\n",
    "X = df[['I', 'V']]\n",
    "y = df['wR']\n",
    "\n",
    "# Create a linear regression model\n",
    "model = LinearRegression()\n",
    "\n",
    "# Fit the model to the data\n",
    "model.fit(X, y)\n",
    "\n",
    "# Print the coefficients of the model\n",
    "print(f'wR = {model.intercept_} + {model.coef_[0]} * I  + {model.coef_[1]} * V') \n",
    "\n",
    "\n"
   ]
  },
  {
   "cell_type": "code",
   "execution_count": null,
   "metadata": {},
   "outputs": [
    {
     "name": "stdout",
     "output_type": "stream",
     "text": [
      "[ 0.1237696  -0.52454919]\n",
      "-0.7544027506638145\n"
     ]
    }
   ],
   "source": [
    "import pandas as pd\n",
    "from sklearn.linear_model import LinearRegression\n",
    "\n",
    "# Load the dataset\n",
    "df = pd.read_csv(R'C:\\Users\\csc\\OneDrive\\Desktop\\Python Program\\Project 3- Sensorless Speed Control of PMSM motor using machine learning\\big-DATA.csv')\n",
    "\n",
    "# Select the columns to use in the model\n",
    "X = df[['I', 'V']]\n",
    "y = df['wR']\n",
    "\n",
    "# Create a linear regression model\n",
    "model = LinearRegression()\n",
    "\n",
    "# Fit the model to the data\n",
    "model.fit(X, y)\n",
    "\n",
    "# Print the coefficients of the model\n",
    "print(model.coef_)\n",
    "print(model.intercept_)\n",
    "\n"
   ]
  },
  {
   "cell_type": "code",
   "execution_count": null,
   "metadata": {},
   "outputs": [
    {
     "name": "stdout",
     "output_type": "stream",
     "text": [
      "Coefficients: [[0.07691073]]\n",
      "Intercept: [-10.02053037]\n",
      "wR = 0.07691073 * I - 10.02053037\n"
     ]
    }
   ],
   "source": [
    "from sklearn.linear_model import LinearRegression\n",
    "import pandas as pd\n",
    "\n",
    "# Load the dataset\n",
    "df = pd.read_csv(R'C:\\Users\\csc\\OneDrive\\Desktop\\Python Program\\Project 3- Sensorless Speed Control of PMSM motor using machine learning\\big-DATA.csv')\n",
    "\n",
    "# Extract the input and output variables\n",
    "x = df[\"I\"].values.reshape(-1,1)\n",
    "y = df[\"wR\"].values.reshape(-1,1)\n",
    "\n",
    "# Create a linear regression model\n",
    "model = LinearRegression()\n",
    "\n",
    "# Fit the model to the data\n",
    "model.fit(x, y)\n",
    "\n",
    "# Print the model coefficients\n",
    "print(\"Coefficients:\", model.coef_)\n",
    "print(\"Intercept:\", model.intercept_)\n",
    "\n",
    "#formula prediction \n",
    "print(\"wR = 0.07691073 * I - 10.02053037\")"
   ]
  },
  {
   "cell_type": "code",
   "execution_count": null,
   "metadata": {},
   "outputs": [
    {
     "ename": "AttributeError",
     "evalue": "'LinearRegression' object has no attribute 'resid'",
     "output_type": "error",
     "traceback": [
      "\u001b[1;31m---------------------------------------------------------------------------\u001b[0m",
      "\u001b[1;31mAttributeError\u001b[0m                            Traceback (most recent call last)",
      "\u001b[1;32m~\\AppData\\Local\\Temp\\ipykernel_4840\\143879515.py\u001b[0m in \u001b[0;36m<module>\u001b[1;34m\u001b[0m\n\u001b[1;32m----> 1\u001b[1;33m \u001b[0mplt\u001b[0m\u001b[1;33m.\u001b[0m\u001b[0mplot\u001b[0m\u001b[1;33m(\u001b[0m\u001b[0mmodel\u001b[0m\u001b[1;33m.\u001b[0m\u001b[0mresid\u001b[0m\u001b[1;33m)\u001b[0m\u001b[1;33m;\u001b[0m\u001b[1;33m\u001b[0m\u001b[1;33m\u001b[0m\u001b[0m\n\u001b[0m",
      "\u001b[1;31mAttributeError\u001b[0m: 'LinearRegression' object has no attribute 'resid'"
     ]
    }
   ],
   "source": [
    "plt.plot(model.resid);"
   ]
  }
 ],
 "metadata": {
  "kernelspec": {
   "display_name": "Python 3",
   "language": "python",
   "name": "python3"
  },
  "language_info": {
   "codemirror_mode": {
    "name": "ipython",
    "version": 3
   },
   "file_extension": ".py",
   "mimetype": "text/x-python",
   "name": "python",
   "nbconvert_exporter": "python",
   "pygments_lexer": "ipython3",
   "version": "3.7.8"
  },
  "orig_nbformat": 4
 },
 "nbformat": 4,
 "nbformat_minor": 2
}
