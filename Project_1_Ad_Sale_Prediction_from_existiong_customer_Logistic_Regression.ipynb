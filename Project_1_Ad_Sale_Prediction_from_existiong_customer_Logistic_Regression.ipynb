{
  "cells": [
    {
      "cell_type": "code",
      "execution_count": null,
      "metadata": {
        "id": "7PZoSG72q50V"
      },
      "outputs": [],
      "source": []
    },
    {
      "cell_type": "markdown",
      "metadata": {
        "id": "pwy_u1yQrLGl"
      },
      "source": [
        "# **Project 1- Ad Sale Prediction from existiong customer- Logistic Regression**"
      ]
    },
    {
      "cell_type": "markdown",
      "metadata": {
        "id": "TkwCQ5VprxfO"
      },
      "source": [
        "**Importing Libraries**"
      ]
    },
    {
      "cell_type": "code",
      "execution_count": 1,
      "metadata": {
        "id": "S_6GvXH1rSMc"
      },
      "outputs": [],
      "source": [
        "import pandas as pd # useful for loading the dataset\n",
        "import numpy as np #to perform array\n"
      ]
    },
    {
      "cell_type": "markdown",
      "metadata": {
        "id": "q2CbX6EGr5ye"
      },
      "source": [
        "**Choose Dataset file from Local Directory**"
      ]
    },
    {
      "cell_type": "code",
      "execution_count": 2,
      "metadata": {
        "colab": {
          "base_uri": "https://localhost:8080/",
          "height": 73
        },
        "id": "4_bqBVTEsB7p",
        "outputId": "ac8e3791-5d79-4c89-c78d-047960c40f72"
      },
      "outputs": [],
      "source": [
        "data = pd.read_csv(R\"C:\\Users\\csc\\OneDrive\\Desktop\\Python Program\\Project 1- Sale prediction from an existing customer using LOGISTIC REGRESSION\\ad_dataseto.csv\")"
      ]
    },
    {
      "cell_type": "markdown",
      "metadata": {
        "id": "VehxHD2_tAPK"
      },
      "source": [
        "**Load Dataset using pandas library**"
      ]
    },
    {
      "cell_type": "code",
      "execution_count": 3,
      "metadata": {
        "colab": {
          "base_uri": "https://localhost:8080/"
        },
        "id": "AYOdCKHftFKr",
        "outputId": "d314323d-c9f7-492a-d572-945af8993c6e"
      },
      "outputs": [
        {
          "name": "stdout",
          "output_type": "stream",
          "text": [
            "      Age   Salary  Status\n",
            "0      25  1252600       1\n",
            "1      38  1256200       0\n",
            "2      28  1260000       1\n",
            "3      44  1264000       0\n",
            "4      18  1268200       1\n",
            "...   ...      ...     ...\n",
            "1471   48    64000       0\n",
            "1472   47    64300       0\n",
            "1473   55    64600       0\n",
            "1474   22    64900       0\n",
            "1475   49    65200       0\n",
            "\n",
            "[1476 rows x 3 columns]\n"
          ]
        }
      ],
      "source": [
        "dataset = pd.read_csv(R'C:\\Users\\csc\\OneDrive\\Desktop\\Python Program\\Project 1- Sale prediction from an existing customer using LOGISTIC REGRESSION\\ad_dataseto.csv')\n",
        "print(dataset)"
      ]
    },
    {
      "cell_type": "markdown",
      "metadata": {
        "id": "gXhnhz4jV3KB"
      },
      "source": [
        "**Summarize Dataset**"
      ]
    },
    {
      "cell_type": "code",
      "execution_count": 4,
      "metadata": {
        "colab": {
          "base_uri": "https://localhost:8080/"
        },
        "id": "979BoaJ5V7qv",
        "outputId": "20889895-1afa-48e4-ec67-72dbeca90f90"
      },
      "outputs": [
        {
          "name": "stdout",
          "output_type": "stream",
          "text": [
            "(1476, 3)\n",
            "   Age   Salary  Status\n",
            "0   25  1252600       1\n",
            "1   38  1256200       0\n",
            "2   28  1260000       1\n",
            "3   44  1264000       0\n",
            "4   18  1268200       1\n"
          ]
        }
      ],
      "source": [
        "print(dataset.shape) # no. of rows and columns\n",
        "print(dataset.head(5)) #top values of data"
      ]
    },
    {
      "cell_type": "markdown",
      "metadata": {
        "id": "zVRkYzjlWbLO"
      },
      "source": [
        "**Segrate Dataset into X(Input/Independent Variable) and Y(Output/Dependent Variable)**"
      ]
    },
    {
      "cell_type": "code",
      "execution_count": 5,
      "metadata": {
        "colab": {
          "base_uri": "https://localhost:8080/"
        },
        "id": "1jaDPOW1WyW6",
        "outputId": "cc298174-5abd-4963-ad0c-98a7a730fb7e"
      },
      "outputs": [
        {
          "data": {
            "text/plain": [
              "array([[     25, 1252600],\n",
              "       [     38, 1256200],\n",
              "       [     28, 1260000],\n",
              "       ...,\n",
              "       [     55,   64600],\n",
              "       [     22,   64900],\n",
              "       [     49,   65200]], dtype=int64)"
            ]
          },
          "execution_count": 5,
          "metadata": {},
          "output_type": "execute_result"
        }
      ],
      "source": [
        "X = dataset.iloc[:, :-1].values\n",
        "X"
      ]
    },
    {
      "cell_type": "code",
      "execution_count": 6,
      "metadata": {
        "colab": {
          "base_uri": "https://localhost:8080/"
        },
        "id": "gznRSrYZXVW9",
        "outputId": "15de152e-8cbc-4513-ed41-e199719c2694"
      },
      "outputs": [
        {
          "data": {
            "text/plain": [
              "array([1, 0, 1, ..., 0, 0, 0], dtype=int64)"
            ]
          },
          "execution_count": 6,
          "metadata": {},
          "output_type": "execute_result"
        }
      ],
      "source": [
        "Y = dataset.iloc[:,-1].values\n",
        "Y"
      ]
    },
    {
      "cell_type": "markdown",
      "metadata": {
        "id": "amyuHVBXX5vM"
      },
      "source": [
        "**Splitting Dataset into Train and Test**"
      ]
    },
    {
      "cell_type": "code",
      "execution_count": 7,
      "metadata": {
        "id": "_mMnP2vDX_jN"
      },
      "outputs": [],
      "source": [
        "from sklearn.model_selection import train_test_split\n",
        "X_train, X_test, Y_train, Y_test = train_test_split(X, Y, test_size = 0.25, random_state=0)"
      ]
    },
    {
      "cell_type": "markdown",
      "metadata": {
        "id": "ERBCPS1oY5KY"
      },
      "source": [
        "***Feature Scaling***\n",
        "we scale our data to make all the features contribute equally to the result\n",
        "Fit_Transform- fit method is calculating the mean and variance of each of the features present in our data.\n",
        "\n",
        "**Transform** - Transform method is transforming alll the features using the respective mean and variance,\n",
        "We want our test data to be completely new and a surprise set for our model\n"
      ]
    },
    {
      "cell_type": "code",
      "execution_count": 8,
      "metadata": {
        "colab": {
          "base_uri": "https://localhost:8080/"
        },
        "id": "ZZhwoIZIaAr3",
        "outputId": "d3f8a3ba-2168-4874-fdcc-877d9d832bcd"
      },
      "outputs": [
        {
          "name": "stdout",
          "output_type": "stream",
          "text": [
            "[[ 0.83787255  1.73577786]\n",
            " [ 1.71829487 -1.21104156]\n",
            " [-0.99634061  1.48202494]\n",
            " ...\n",
            " [-0.26265535  0.70329007]\n",
            " [-1.28981472  1.42959665]\n",
            " [-0.33602387  0.51035396]]\n"
          ]
        }
      ],
      "source": [
        "from sklearn.preprocessing import StandardScaler\n",
        "sc = StandardScaler()\n",
        "X_train = sc.fit_transform(X_train)\n",
        "X_test = sc.transform(X_test)\n",
        "print(X_train)\n"
      ]
    },
    {
      "cell_type": "markdown",
      "metadata": {
        "id": "SD4d74YnavmT"
      },
      "source": [
        "**Training/Algorithm**"
      ]
    },
    {
      "cell_type": "code",
      "execution_count": 9,
      "metadata": {
        "colab": {
          "base_uri": "https://localhost:8080/"
        },
        "id": "Wgm2yDn5azLF",
        "outputId": "396d2953-1de4-4117-bcc0-17ed39fd9825"
      },
      "outputs": [
        {
          "data": {
            "text/plain": [
              "LogisticRegression()"
            ]
          },
          "execution_count": 9,
          "metadata": {},
          "output_type": "execute_result"
        }
      ],
      "source": [
        "from sklearn.linear_model import LogisticRegression\n",
        "model = LogisticRegression() #loading the algorithm\n",
        "model.fit(X_train, Y_train)  #train"
      ]
    },
    {
      "cell_type": "markdown",
      "metadata": {
        "id": "HCfWxOcMdPvi"
      },
      "source": [
        "**Prediction for all Test Data**"
      ]
    },
    {
      "cell_type": "code",
      "execution_count": 10,
      "metadata": {
        "id": "BuSrlt5EdaOv"
      },
      "outputs": [],
      "source": [
        "Y_pred = model.predict(X_test)\n",
        "#print(np.concatenate((Y_pred.reshape(len(Y_pred),1), Y_test.reshape(len(Y_test),1)),1))"
      ]
    },
    {
      "cell_type": "markdown",
      "metadata": {
        "id": "xAH_Gw7LePaA"
      },
      "source": [
        "**Evaluating Model- CONFUSION MATRIX**"
      ]
    },
    {
      "cell_type": "code",
      "execution_count": 11,
      "metadata": {
        "colab": {
          "base_uri": "https://localhost:8080/"
        },
        "id": "ZnpuhlVkeZo-",
        "outputId": "1bba12eb-3f8f-43fb-d007-329bf96c6474"
      },
      "outputs": [
        {
          "name": "stdout",
          "output_type": "stream",
          "text": [
            " Accuracy of the Model: 65.04065040650406% \n"
          ]
        }
      ],
      "source": [
        "#from sklearn.matrics import confusion_matrix, accuracy_score\n",
        "from sklearn.metrics import accuracy_score\n",
        "# cm = confusion_matrix(Y_test, Y_pred)\n",
        "\n",
        "#print(\" Confusion Matrix: \")\n",
        "#print(cm)\n",
        "\n",
        "print(\" Accuracy of the Model: {0}% \".format(accuracy_score(Y_test, Y_pred)*100))"
      ]
    },
    {
      "cell_type": "markdown",
      "metadata": {
        "id": "tPCa-g1UcCSM"
      },
      "source": [
        "**Predicting, wheather new customer with Age and Salary will Buy or Not**"
      ]
    },
    {
      "cell_type": "code",
      "execution_count": 12,
      "metadata": {
        "colab": {
          "base_uri": "https://localhost:8080/"
        },
        "id": "qEzDkHKCcQ2w",
        "outputId": "63ab1ff9-6766-4e66-f393-7a1583f7c5b9"
      },
      "outputs": [
        {
          "name": "stdout",
          "output_type": "stream",
          "text": [
            "[0]\n",
            "Customer won't Buy\n"
          ]
        }
      ],
      "source": [
        "age = int(input(\" Enter New Customer's Age: \"))\n",
        "salary = int(input(\" Enter New Customer's Salary: \"))\n",
        "newCust = [[age,salary]]\n",
        "result = model.predict(sc.transform(newCust))\n",
        "print(result)\n",
        "if result == 1:\n",
        "  print(\"Customer will Buy\")\n",
        "else:\n",
        "  print(\"Customer won't Buy\")  "
      ]
    }
  ],
  "metadata": {
    "colab": {
      "provenance": []
    },
    "kernelspec": {
      "display_name": "Python 3.7.8 64-bit",
      "language": "python",
      "name": "python3"
    },
    "language_info": {
      "codemirror_mode": {
        "name": "ipython",
        "version": 3
      },
      "file_extension": ".py",
      "mimetype": "text/x-python",
      "name": "python",
      "nbconvert_exporter": "python",
      "pygments_lexer": "ipython3",
      "version": "3.7.8"
    },
    "vscode": {
      "interpreter": {
        "hash": "917458f1c809c5b65ff606a119cfb87a72b5790f31286ed056b9c753200ad025"
      }
    }
  },
  "nbformat": 4,
  "nbformat_minor": 0
}
